{
  "cells": [
    {
      "cell_type": "markdown",
      "metadata": {
        "id": "JnGHatCI51JP"
      },
      "source": [
        "# micrograd exercises\n",
        "\n",
        "1. watch the [micrograd video](https://www.youtube.com/watch?v=VMj-3S1tku0) on YouTube\n",
        "2. come back and complete these exercises to level up :)"
      ]
    },
    {
      "cell_type": "markdown",
      "metadata": {
        "id": "OFt6NKOz6iBZ"
      },
      "source": [
        "## section 1: derivatives"
      ]
    },
    {
      "cell_type": "code",
      "execution_count": null,
      "metadata": {
        "colab": {
          "base_uri": "https://localhost:8080/"
        },
        "id": "3Jx9fCXl5xHd",
        "outputId": "0955fbf6-8cd1-49f5-9a7f-39593262cd34"
      },
      "outputs": [
        {
          "name": "stdout",
          "output_type": "stream",
          "text": [
            "6.336362190988558\n"
          ]
        }
      ],
      "source": [
        "# here is a mathematical expression that takes 3 inputs and produces one output\n",
        "from math import sin, cos\n",
        "\n",
        "def f(a, b, c):\n",
        "  return -a**3 + sin(3*b) - 1.0/c + b**2.5 - a**0.5\n",
        "\n",
        "print(f(2, 3, 4))"
      ]
    },
    {
      "cell_type": "code",
      "execution_count": null,
      "metadata": {
        "colab": {
          "base_uri": "https://localhost:8080/"
        },
        "id": "qXaH59eL9zxf",
        "outputId": "bef92784-e156-4ab3-d544-47c5ba1d0486"
      },
      "outputs": [
        {
          "name": "stdout",
          "output_type": "stream",
          "text": [
            "OK for dim 0: expected -12.353553390593273, yours returns -12.353553390593273\n",
            "OK for dim 1: expected 10.25699027111255, yours returns 10.25699027111255\n",
            "OK for dim 2: expected 0.0625, yours returns 0.0625\n"
          ]
        }
      ],
      "source": [
        "# write the function df that returns the analytical gradient of f\n",
        "# i.e. use your skills from calculus to take the derivative, then implement the formula\n",
        "# if you do not calculus then feel free to ask wolframalpha, e.g.:\n",
        "# https://www.wolframalpha.com/input?i=d%2Fda%28sin%283*a%29%29%29\n",
        "\n",
        "def gradf(a, b, c):\n",
        "  df_a = -3*a**2 - 0.5*a**(-0.5)\n",
        "  df_b = 3*cos(3*b) + 2.5*b**(1.5)\n",
        "  df_c = c**(-2)\n",
        "  return [df_a, df_b, df_c] # todo, return [df/da, df/db, df/dc]\n",
        "\n",
        "# expected answer is the list of\n",
        "ans = [-12.353553390593273, 10.25699027111255, 0.0625]\n",
        "yours = gradf(2, 3, 4)\n",
        "for dim in range(3):\n",
        "  ok = 'OK' if abs(yours[dim] - ans[dim]) < 1e-5 else 'WRONG!'\n",
        "  print(f\"{ok} for dim {dim}: expected {ans[dim]}, yours returns {yours[dim]}\")\n"
      ]
    },
    {
      "cell_type": "code",
      "execution_count": null,
      "metadata": {
        "colab": {
          "base_uri": "https://localhost:8080/"
        },
        "id": "_27n-KTA9Qla",
        "outputId": "075f2ab5-b826-4320-a1ad-82e67bbf3ea1"
      },
      "outputs": [
        {
          "name": "stdout",
          "output_type": "stream",
          "text": [
            "OK for dim 0: expected -12.353553390593273, yours returns -12.353559348809995\n",
            "OK for dim 1: expected 10.25699027111255, yours returns 10.256991666679482\n",
            "OK for dim 2: expected 0.0625, yours returns 0.062499984743169534\n"
          ]
        }
      ],
      "source": [
        "# now estimate the gradient numerically without any calculus, using\n",
        "# the approximation we used in the video.\n",
        "# you should not call the function df from the last cell\n",
        "\n",
        "# -----------\n",
        "# solution - concept of limits\n",
        "h=0.000001\n",
        "df_a = (f(2+h,3,4) - f(2,3,4))/h\n",
        "df_b = (f(2,3+h,4) - f(2,3,4))/h\n",
        "df_c = (f(2,3,4+h) - f(2,3,4))/h\n",
        "numerical_grad = [df_a, df_b, df_c]  # TODO\n",
        "# -----------\n",
        "\n",
        "for dim in range(3):\n",
        "  ok = 'OK' if abs(numerical_grad[dim] - ans[dim]) < 1e-5 else 'WRONG!'\n",
        "  print(f\"{ok} for dim {dim}: expected {ans[dim]}, yours returns {numerical_grad[dim]}\")\n"
      ]
    },
    {
      "cell_type": "code",
      "execution_count": null,
      "metadata": {
        "colab": {
          "base_uri": "https://localhost:8080/"
        },
        "id": "BUqsGb5o_h2P",
        "outputId": "6f7bbe70-8fe9-480f-f12f-24ace1812538"
      },
      "outputs": [
        {
          "name": "stdout",
          "output_type": "stream",
          "text": [
            "OK for dim 0: expected -12.353553390593273, yours returns -12.353553390820336\n",
            "OK for dim 1: expected 10.25699027111255, yours returns 10.256990271617639\n",
            "OK for dim 2: expected 0.0625, yours returns 0.06250000001983835\n"
          ]
        }
      ],
      "source": [
        "# there is an alternative formula that provides a much better numerical\n",
        "# approximation to the derivative of a function.\n",
        "# learn about it here: https://en.wikipedia.org/wiki/Symmetric_derivative\n",
        "# implement it. confirm that for the same step size h this version gives a\n",
        "# better approximation.\n",
        "\n",
        "# -----------\n",
        "h=0.00001\n",
        "df_a = (f(2+h,3,4) - f(2-h,3,4))/(2*h)\n",
        "df_b = (f(2,3+h,4) - f(2,3-h,4))/(2*h)\n",
        "df_c = (f(2,3,4+h) - f(2,3,4-h))/(2*h)\n",
        "numerical_grad2 = [df_a, df_b, df_c] # TODO\n",
        "# -----------\n",
        "\n",
        "for dim in range(3):\n",
        "  ok = 'OK' if abs(numerical_grad2[dim] - ans[dim]) < 1e-5 else 'WRONG!'\n",
        "  print(f\"{ok} for dim {dim}: expected {ans[dim]}, yours returns {numerical_grad2[dim]}\")\n"
      ]
    },
    {
      "cell_type": "markdown",
      "metadata": {
        "id": "tklF9s_4AtlI"
      },
      "source": [
        "## section 2: support for softmax"
      ]
    },
    {
      "cell_type": "code",
      "execution_count": 4,
      "metadata": {
        "id": "nAPe_RVrCTeO"
      },
      "outputs": [],
      "source": [
        "class Value:\n",
        "\n",
        "    def __init__(self, data, inputs =(), oper=\"\",label=\"\"):\n",
        "        self.label = label\n",
        "        self.data = data\n",
        "        self.grad = 0.0\n",
        "        # backward - updates the gradients of the inputs( objects used to create) of the current object\n",
        "        self.backward = lambda:None\n",
        "        # inputs - contains the inputs(or objects) which are use to create the current object\n",
        "        self.inputs = set(inputs)\n",
        "        # oper - mathematical operation used to create the current object\n",
        "        self.oper = oper\n",
        "        \"\"\" inputs(or objects) which are used to create the new\n",
        "            object are being stored in order to enable\n",
        "            'Backwardpass' \"\"\"\n",
        "\n",
        "    # string representation of a class object/instance\n",
        "    def __repr__(self):\n",
        "        return f\"(Value={self.data})\"\n",
        "\n",
        "    # self+other = self.__add__(other)\n",
        "    def __add__(self,other):\n",
        "        other = other if isinstance(other,Value) else Value(other)\n",
        "        new_object = Value(data=(self.data + other.data),\n",
        "                           inputs= (self, other),\n",
        "                           oper=\"+\")\n",
        "        def backward():\n",
        "            self.grad += (1.0)*(new_object.grad)\n",
        "            other.grad += (1.0)*(new_object.grad)\n",
        "\n",
        "        new_object.backward = backward\n",
        "        return new_object\n",
        "\n",
        "    # invoked when __add__() doesn't works that is object is second operand (eg- 2+a)\n",
        "    def __radd__(self,other):\n",
        "        return self+other\n",
        "\n",
        "    # self-other = self.__sub__(other)\n",
        "    def __sub__(self,other):\n",
        "        other = other if isinstance(other,Value) else Value(other)\n",
        "        new_object = Value(data=(self.data - other.data),\n",
        "                           inputs= (self, other),\n",
        "                           oper=\"-\")\n",
        "\n",
        "        def backward():\n",
        "            self.grad += (1.0)*(new_object.grad)\n",
        "            other.grad += (-1.0)*(new_object.grad)\n",
        "\n",
        "        new_object.backward = backward\n",
        "        return new_object\n",
        "\n",
        "    # invoked when __sub__() doesn't works that is object is second operand (eg- 2-a)\n",
        "    def __rsub__(self,other):\n",
        "        return (-self)+other\n",
        "\n",
        "    # self*other = self.__mul__(other)\n",
        "    def __mul__(self,other):\n",
        "        other = other if isinstance(other,Value) else Value(other)\n",
        "        new_object = Value(data=(self.data * other.data),\n",
        "                           inputs= (self, other),\n",
        "                           oper=\"*\")\n",
        "        def backward():\n",
        "            self.grad += (other.data)*(new_object.grad)\n",
        "            other.grad += (self.data)*(new_object.grad)\n",
        "\n",
        "        new_object.backward = backward\n",
        "        return new_object\n",
        "\n",
        "    # invoked when __add__() doesn't works that is object is second operand (eg- 2*a)\n",
        "    def __rmul__(self,other):\n",
        "        return self*other\n",
        "\n",
        "    # self/div = self.__div__(other)\n",
        "    def __truediv__(self,other):\n",
        "        return self*(other**-1)\n",
        "\n",
        "    # -self = self.__neg__()\n",
        "    def __neg__(self):\n",
        "        return self*(-1)\n",
        "\n",
        "    # self**other = self.__pow__(other)\n",
        "    def __pow__(self,other):\n",
        "        assert isinstance(other, (int, float)), \"Error: only supports int/float for power\"\n",
        "        new_object = Value(data=(self.data**other),\n",
        "                           inputs=(self,),\n",
        "                           oper=f\"**{other}\")\n",
        "\n",
        "        # dL/dx = (dx^p/dx) * (dL/dx^p)\n",
        "        def backward():\n",
        "           self.grad += (other)*(self.data**(other-1))*(new_object.grad)\n",
        "        new_object.backward = backward\n",
        "        return new_object\n",
        "\n",
        "\n",
        "    def tanh(self):\n",
        "        tan_h = (math.exp(2*self.data)-1)/(math.exp(2*self.data)+1)\n",
        "        new_object = Value(data=(tan_h),\n",
        "                           inputs=(self,),\n",
        "                           oper=\"tanh\")\n",
        "        def backward():\n",
        "           self.grad += (1-tan_h**2)*(new_object.grad)\n",
        "        new_object.backward = backward\n",
        "        return new_object\n",
        "\n",
        "    def exp(self):\n",
        "        new_object = Value(data=(math.exp(self.data)),\n",
        "                           inputs=(self,),\n",
        "                           oper=\"exp\")\n",
        "        def backward():\n",
        "            self.grad += (new_object.data)*(new_object.grad)\n",
        "        new_object.backward = backward\n",
        "        return new_object\n",
        "\n",
        "    def log(self):\n",
        "        new_object = Value(data=(math.log(self.data)),\n",
        "                           inputs=(self,),\n",
        "                           oper=\"log\")\n",
        "        def backward():\n",
        "            self.grad += (1.0/self.data)*(new_object.grad)\n",
        "        new_object.backward = backward\n",
        "        return new_object\n",
        "\n",
        "    def backward_pass(self):\n",
        "        topo = []\n",
        "        visited = set()\n",
        "        # topological sort as our neural network is DAG\n",
        "        def build_topo(node):\n",
        "            if node not in visited:\n",
        "                visited.add(node)\n",
        "                for input in node.inputs:\n",
        "                    build_topo(input) # DFS\n",
        "                topo.append(node)\n",
        "        build_topo(self)\n",
        "\n",
        "        self.grad = 1.0\n",
        "        for node in reversed(topo):\n",
        "            node.backward()"
      ]
    },
    {
      "cell_type": "code",
      "execution_count": 8,
      "metadata": {
        "colab": {
          "base_uri": "https://localhost:8080/"
        },
        "id": "VgWvwVQNAvnI",
        "outputId": "fe11294a-ddd4-459a-dfa2-7f47c50df68c"
      },
      "outputs": [
        {
          "name": "stdout",
          "output_type": "stream",
          "text": [
            "2.1755153626167147\n",
            "OK for dim 0: expected 0.041772570515350445, yours returns 0.041772570515350445\n",
            "OK for dim 1: expected 0.8390245074625319, yours returns 0.8390245074625319\n",
            "OK for dim 2: expected 0.005653302662216329, yours returns 0.005653302662216329\n",
            "OK for dim 3: expected -0.8864503806400986, yours returns -0.8864503806400986\n"
          ]
        }
      ],
      "source": [
        "# without referencing our code/video __too__ much, make this cell work\n",
        "# you'll have to implement (in some cases re-implemented) a number of functions\n",
        "# of the Value object, similar to what we've seen in the video.\n",
        "# instead of the squared error loss this implements the negative log likelihood\n",
        "# loss, which is very often used in classification.\n",
        "\n",
        "# this is the softmax function\n",
        "# https://en.wikipedia.org/wiki/Softmax_function\n",
        "def softmax(logits):\n",
        "  counts = [logit.exp() for logit in logits]\n",
        "  denominator = sum(counts)\n",
        "  out = [c / denominator for c in counts]\n",
        "  return out\n",
        "\n",
        "# this is the negative log likelihood loss function, pervasive in classification\n",
        "logits = [Value(0.0), Value(3.0), Value(-2.0), Value(1.0)]\n",
        "probs = softmax(logits)\n",
        "loss = -probs[3].log() # dim 3 acts as the label for this input example\n",
        "loss.backward_pass()\n",
        "print(loss.data)\n",
        "\n",
        "ans = [0.041772570515350445, 0.8390245074625319, 0.005653302662216329, -0.8864503806400986]\n",
        "for dim in range(4):\n",
        "  ok = 'OK' if abs(logits[dim].grad - ans[dim]) < 1e-5 else 'WRONG!'\n",
        "  print(f\"{ok} for dim {dim}: expected {ans[dim]}, yours returns {logits[dim].grad}\")\n"
      ]
    },
    {
      "cell_type": "code",
      "execution_count": null,
      "metadata": {
        "id": "q7ca1SVAGG1S"
      },
      "outputs": [],
      "source": [
        "# verify the gradient using the torch library\n",
        "# torch should give you the exact same gradient\n",
        "import torch\n"
      ]
    }
  ],
  "metadata": {
    "colab": {
      "provenance": []
    },
    "kernelspec": {
      "display_name": "Python 3",
      "name": "python3"
    },
    "language_info": {
      "name": "python"
    }
  },
  "nbformat": 4,
  "nbformat_minor": 0
}
